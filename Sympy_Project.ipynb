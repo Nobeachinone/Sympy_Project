{
  "nbformat": 4,
  "nbformat_minor": 0,
  "metadata": {
    "colab": {
      "provenance": [],
      "collapsed_sections": []
    },
    "kernelspec": {
      "name": "python3",
      "display_name": "Python 3"
    },
    "language_info": {
      "name": "python"
    }
  },
  "cells": [
    {
      "cell_type": "markdown",
      "source": [
        "###Точка входа и работоспособность"
      ],
      "metadata": {
        "id": "4fnOWhFh84Hk"
      }
    },
    {
      "cell_type": "code",
      "execution_count": 1,
      "metadata": {
        "id": "q1Ji9Xh64Rcf"
      },
      "outputs": [],
      "source": [
        "import sympy\n",
        "from sympy.parsing.latex import parse_latex\n",
        "sympy.init_printing()"
      ]
    },
    {
      "cell_type": "markdown",
      "source": [
        "**Долгая установка парсера**\n",
        "\n",
        "К сожалению, чтобы использовать $parse$_$latex$ установки просто $antlr4-python3-runtime$ не достаточно. Чтобы устранить проблемы, нужно устанавливать не последнюю версию данной утилиты, а версию из библиотеки $latex2sympy2$. Потом наконец-то можно пользоваться парсером"
      ],
      "metadata": {
        "id": "zrW01LcmK7Wj"
      }
    },
    {
      "cell_type": "code",
      "source": [
        "!pip install antlr4-python3-runtime"
      ],
      "metadata": {
        "id": "hDyorMJKt1hR"
      },
      "execution_count": null,
      "outputs": []
    },
    {
      "cell_type": "code",
      "source": [
        "!pip install latex2sympy2"
      ],
      "metadata": {
        "id": "1gsGXKK0D1Ri"
      },
      "execution_count": null,
      "outputs": []
    },
    {
      "cell_type": "markdown",
      "source": [
        "$LaTex$ $\\rightarrow$ $Sympy$"
      ],
      "metadata": {
        "id": "rXEPpp6aMvTy"
      }
    },
    {
      "cell_type": "code",
      "source": [
        "class Entr:\n",
        "  x, t, u = sympy.symbols('x t u')\n",
        "  def __init__(self, s):\n",
        "    self.s = s\n",
        "  def entry(self):\n",
        "    result = []\n",
        "    with open(self.s, 'r') as file:\n",
        "      for latex in file:\n",
        "        result.append(parse_latex(r'{}'.format(latex)))\n",
        "    return result"
      ],
      "metadata": {
        "id": "CzAm04kVS8P-"
      },
      "execution_count": 5,
      "outputs": []
    },
    {
      "cell_type": "markdown",
      "source": [
        "Определим переменные через $sympy.symbols$ и проверим работу точки входа "
      ],
      "metadata": {
        "id": "afC8SwzfSj-K"
      }
    },
    {
      "cell_type": "code",
      "source": [
        "x, t, u = sympy.symbols('x t u')"
      ],
      "metadata": {
        "id": "WHhDNQCOIe0h"
      },
      "execution_count": 6,
      "outputs": []
    },
    {
      "cell_type": "code",
      "source": [
        "test_string = Entr('task_1.txt')"
      ],
      "metadata": {
        "id": "fIcKZgBhPuT1"
      },
      "execution_count": 7,
      "outputs": []
    },
    {
      "cell_type": "code",
      "source": [
        "test_string.entry()"
      ],
      "metadata": {
        "colab": {
          "base_uri": "https://localhost:8080/",
          "height": 80
        },
        "id": "QJ1NG8xtVHDl",
        "outputId": "430ab951-69d8-45c7-96d6-dc1443104673"
      },
      "execution_count": 8,
      "outputs": [
        {
          "output_type": "execute_result",
          "data": {
            "text/plain": [
              "⎡4                                                                            \n",
              "⎢⌠                                                                            \n",
              "⎢⎮ ⎛                 2⎞                                                       \n",
              "⎢⎮ ⎜       ⎛d       ⎞ ⎟              d                         x       ⎛ 2⎞  s\n",
              "⎢⎮ ⎜x(t) + ⎜──(x(t))⎟ ⎟ dt, │u│ ≤ 1, ──(x(t)) = u, x(0) = 0, ─────, sin⎝x ⎠, ─\n",
              "⎢⎮ ⎝       ⎝dt      ⎠ ⎠              dt                      x + 1            \n",
              "⎢⌡                                                                            \n",
              "⎣0                                                                            \n",
              "\n",
              "                                                                       ⎤\n",
              "                                                                       ⎥\n",
              "                                                           2           ⎥\n",
              "in(x)   4      2                  d           t           d           t⎥\n",
              "─────, x  + 2⋅x  + 1 = 0, -y(t) + ──(y(t)) = ℯ , -y(t) + ───(y(t)) = ℯ ⎥\n",
              " x                                dt                       2           ⎥\n",
              "                                                         dt            ⎥\n",
              "                                                                       ⎦"
            ],
            "image/png": "[encoded data removed]",
            "text/latex": "$\\displaystyle \\left[ \\int\\limits_{0}^{4} \\left(x{\\left(t \\right)} + \\left(\\frac{d}{d t} x{\\left(t \\right)}\\right)^{2}\\right)\\, dt, \\  \\left|{u}\\right| \\leq 1, \\  \\frac{d}{d t} x{\\left(t \\right)} = u, \\  x{\\left(0 \\right)} = 0, \\  \\frac{x}{x + 1}, \\  \\sin{\\left(x^{2} \\right)}, \\  \\frac{\\sin{\\left(x \\right)}}{x}, \\  \\left(x^{4} + 2 x^{2}\\right) + 1 = 0, \\  - y{\\left(t \\right)} + \\frac{d}{d t} y{\\left(t \\right)} = e^{t}, \\  - y{\\left(t \\right)} + \\frac{d^{2}}{d t^{2}} y{\\left(t \\right)} = e^{t}\\right]$"
          },
          "metadata": {},
          "execution_count": 8
        }
      ]
    },
    {
      "cell_type": "markdown",
      "source": [
        "Дифференцирование"
      ],
      "metadata": {
        "id": "MoQhqU5RV0Yk"
      }
    },
    {
      "cell_type": "code",
      "source": [
        "sympy.diff(test_string.entry()[4], x)"
      ],
      "metadata": {
        "id": "LyvVY6xOYKcd",
        "colab": {
          "base_uri": "https://localhost:8080/",
          "height": 58
        },
        "outputId": "20a4d89d-845e-45b6-f55e-351a002e2f6f"
      },
      "execution_count": 9,
      "outputs": [
        {
          "output_type": "execute_result",
          "data": {
            "text/plain": [
              "     x         1  \n",
              "- ──────── + ─────\n",
              "         2   x + 1\n",
              "  (x + 1)         "
            ],
            "image/png": "[encoded data removed]",
            "text/latex": "$\\displaystyle - \\frac{x}{\\left(x + 1\\right)^{2}} + \\frac{1}{x + 1}$"
          },
          "metadata": {},
          "execution_count": 9
        }
      ]
    },
    {
      "cell_type": "markdown",
      "source": [
        "Интегрирование"
      ],
      "metadata": {
        "id": "o74WQNEkWZ4u"
      }
    },
    {
      "cell_type": "code",
      "source": [
        "sympy.integrate(test_string.entry()[5], (x, -sympy.oo, sympy.oo))"
      ],
      "metadata": {
        "id": "rOdqN389ZQ9O",
        "colab": {
          "base_uri": "https://localhost:8080/",
          "height": 55
        },
        "outputId": "fcd4ffde-42d3-4638-c343-063d24309b16"
      },
      "execution_count": 10,
      "outputs": [
        {
          "output_type": "execute_result",
          "data": {
            "text/plain": [
              "√2⋅√π\n",
              "─────\n",
              "  2  "
            ],
            "image/png": "[encoded data removed]",
            "text/latex": "$\\displaystyle \\frac{\\sqrt{2} \\sqrt{\\pi}}{2}$"
          },
          "metadata": {},
          "execution_count": 10
        }
      ]
    },
    {
      "cell_type": "markdown",
      "source": [
        "Поиск предела"
      ],
      "metadata": {
        "id": "uTQwYg9WX0Tc"
      }
    },
    {
      "cell_type": "code",
      "source": [
        "sympy.limit(test_string.entry()[6], x, 0)"
      ],
      "metadata": {
        "id": "BcOv6YDSXknD",
        "colab": {
          "base_uri": "https://localhost:8080/",
          "height": 37
        },
        "outputId": "63f43caf-c615-41d0-ad2e-45a7967a8fa7"
      },
      "execution_count": 11,
      "outputs": [
        {
          "output_type": "execute_result",
          "data": {
            "text/plain": [
              "1"
            ],
            "image/png": "[encoded data removed]",
            "text/latex": "$\\displaystyle 1$"
          },
          "metadata": {},
          "execution_count": 11
        }
      ]
    },
    {
      "cell_type": "markdown",
      "source": [
        "Решение уравнения"
      ],
      "metadata": {
        "id": "PGP9YoaJYFmJ"
      }
    },
    {
      "cell_type": "code",
      "source": [
        "sympy.solve(test_string.entry()[7], x)"
      ],
      "metadata": {
        "id": "BaiuiyxnYDQn",
        "colab": {
          "base_uri": "https://localhost:8080/",
          "height": 39
        },
        "outputId": "17bf1453-b50e-4cdd-d2f1-bfb6d9b3a4c4"
      },
      "execution_count": 12,
      "outputs": [
        {
          "output_type": "execute_result",
          "data": {
            "text/plain": [
              "[-ⅈ, ⅈ]"
            ],
            "image/png": "[encoded data removed]",
            "text/latex": "$\\displaystyle \\left[ - i, \\  i\\right]$"
          },
          "metadata": {},
          "execution_count": 12
        }
      ]
    },
    {
      "cell_type": "markdown",
      "source": [
        "Решение дифференциальных уравнений"
      ],
      "metadata": {
        "id": "KPr2Bl4bYE91"
      }
    },
    {
      "cell_type": "code",
      "source": [
        "y = sympy.Function('y')(t)"
      ],
      "metadata": {
        "id": "QNKksfWWcdly"
      },
      "execution_count": 13,
      "outputs": []
    },
    {
      "cell_type": "code",
      "source": [
        "sympy.dsolve(test_string.entry()[8], y)"
      ],
      "metadata": {
        "id": "-JsOZ___ZA3l",
        "colab": {
          "base_uri": "https://localhost:8080/",
          "height": 39
        },
        "outputId": "047b3fd9-5896-44e5-c280-e2f0af7acb1f"
      },
      "execution_count": 14,
      "outputs": [
        {
          "output_type": "execute_result",
          "data": {
            "text/plain": [
              "                 t\n",
              "y(t) = (C₁ + t)⋅ℯ "
            ],
            "image/png": "[encoded data removed]",
            "text/latex": "$\\displaystyle y{\\left(t \\right)} = \\left(C_{1} + t\\right) e^{t}$"
          },
          "metadata": {},
          "execution_count": 14
        }
      ]
    },
    {
      "cell_type": "code",
      "source": [
        "sympy.simplify(test_string.entry()[8])"
      ],
      "metadata": {
        "id": "knmhcrjHaI7X",
        "colab": {
          "base_uri": "https://localhost:8080/",
          "height": 52
        },
        "outputId": "904a5311-b985-4837-8b08-f3ea0520300d"
      },
      "execution_count": 16,
      "outputs": [
        {
          "output_type": "execute_result",
          "data": {
            "text/plain": [
              " t           d       \n",
              "ℯ  = -y(t) + ──(y(t))\n",
              "             dt      "
            ],
            "image/png": "[encoded data removed]",
            "text/latex": "$\\displaystyle e^{t} = - y{\\left(t \\right)} + \\frac{d}{d t} y{\\left(t \\right)}$"
          },
          "metadata": {},
          "execution_count": 16
        }
      ]
    },
    {
      "cell_type": "code",
      "source": [
        "sympy.dsolve(test_string.entry()[9], y)"
      ],
      "metadata": {
        "id": "ZLmP1H-TjjSR",
        "colab": {
          "base_uri": "https://localhost:8080/",
          "height": 58
        },
        "outputId": "9abe6de6-d3ba-4db5-c1a2-1916c515d86f"
      },
      "execution_count": 17,
      "outputs": [
        {
          "output_type": "execute_result",
          "data": {
            "text/plain": [
              "           -t   ⎛     t⎞  t\n",
              "y(t) = C₂⋅ℯ   + ⎜C₁ + ─⎟⋅ℯ \n",
              "                ⎝     2⎠   "
            ],
            "image/png": "[encoded data removed]",
            "text/latex": "$\\displaystyle y{\\left(t \\right)} = C_{2} e^{- t} + \\left(C_{1} + \\frac{t}{2}\\right) e^{t}$"
          },
          "metadata": {},
          "execution_count": 17
        }
      ]
    },
    {
      "cell_type": "markdown",
      "source": [
        "###Условия оптимальности"
      ],
      "metadata": {
        "id": "MlD69fRq9HKH"
      }
    },
    {
      "cell_type": "code",
      "source": [
        "t= sympy.symbols('t')\n",
        "p = sympy.Function('p')\n",
        "x = sympy.Function('x')\n",
        "u = sympy.Function('u')"
      ],
      "metadata": {
        "id": "sQkd_FWPA1Rr"
      },
      "execution_count": null,
      "outputs": []
    },
    {
      "cell_type": "markdown",
      "source": [
        "Не оптимизированный класс"
      ],
      "metadata": {
        "id": "eD7IFSIgXqKq"
      }
    },
    {
      "cell_type": "code",
      "source": [
        "class Pontrygin_Method:\n",
        "  t= sympy.symbols('t')\n",
        "  p = sympy.Function('p')\n",
        "  x = sympy.Function('x')\n",
        "  u = sympy.Function('u')\n",
        "  @staticmethod\n",
        "  def f_function(expr): #функции f\n",
        "    if expr.has(sympy.Integral): #проверяем наличие интеграла в выражении\n",
        "      if expr.args[0].has(sympy.Integral): #если выражение состоит только из интеграла, то False. Иначе True\n",
        "        f = expr.args[0].args[0] #берём подытегральное выражение\n",
        "      else:\n",
        "        f = expr.args[0] #берём подытегральное выражение\n",
        "    else:\n",
        "      f = 0\n",
        "    return f\n",
        "\n",
        "  @staticmethod\n",
        "  def ksi_function(expr): #функции ksi\n",
        "    if expr.has(sympy.Integral):\n",
        "      if expr.args[0].has(sympy.Integral): #Если на первом месте стоит интеграл, то значит у нас больше двух коэффициентов, значит второй - наше выражение\n",
        "        ksi = expr.args[1]\n",
        "      else:\n",
        "        ksi = 0 #если False, то значит у нас только интеграл\n",
        "    else:\n",
        "      ksi = expr\n",
        "    return ksi\n",
        "\n",
        "  def __init__(self, s):\n",
        "    self.s = s\n",
        "    self.k = [] #массив значений lambda\n",
        "    self.x = [] #решение x\n",
        "    self.u = [] #решение u\n",
        "\n",
        "  def entry(self): #точка входа\n",
        "    result = []\n",
        "    with open(self.s, 'r') as file:\n",
        "      for latex in file:\n",
        "        result.append(parse_latex(r'{}'.format(latex)))\n",
        "    return result\n",
        "\n",
        "  def k_lambda(self): #массив с lambda\n",
        "    k = []\n",
        "    if self.k == []:\n",
        "      self.k = [[1,0]] * len(self.entry()[:-2])\n",
        "    for i in range(len(self.entry()[:-2])):\n",
        "      k.append(sympy.symbols('lambda_{}'.format(i)))\n",
        "    return k\n",
        "    \n",
        "\n",
        "  def L(self): #Лагранжиан\n",
        "    entry_result = self.entry()\n",
        "    f = self.k_lambda()[0] * self.f_function(entry_result[0]) #Функционал\n",
        "    for i, formula in enumerate(entry_result[1:-2], 1): #Ограничения\n",
        "      f += self.k_lambda()[i] * self.f_function(formula.lhs - formula.rhs)\n",
        "    return sympy.simplify((p(t) * (x(t).diff(t) - entry_result[-2].rhs) + f.subs(entry_result[-2].lhs, entry_result[-2].rhs)))\n",
        "\n",
        "  def H(self): #Гамильтониан\n",
        "    return sympy.simplify(self.L().diff(x(t).diff(t)) * x(t).diff(t) - self.L())\n",
        "\n",
        "  def l(self): #l-функция\n",
        "    entry_result = self.entry()\n",
        "    ksi = self.k_lambda()[0] * self.ksi_function(entry_result[0]) #Функционал\n",
        "    for i, formula in enumerate(entry_result[1:-2], 1): #Ограничения\n",
        "      ksi += self.k_lambda()[i] * self.ksi_function(formula.lhs - formula.rhs)\n",
        "    return sympy.simplify(ksi)\n",
        "\n",
        "  def dual_system(self): #двойственная система\n",
        "    return [sympy.Eq(x(t).diff(t), self.H().diff(p(t))), sympy.Eq(p(t).diff(t), - self.H().diff(x(t)))]\n",
        "  \n",
        "  def check_lambda(self): #проверка, подходит ли lambda_0 == 0\n",
        "    if self.dual_system()[1].subs(self.k_lambda()[0], 0).rhs == 0:\n",
        "      return 1\n",
        "    else:\n",
        "      return 0 \n",
        "\n",
        "  def t(self): #Горизон действия\n",
        "    entry_result_0 = self.entry()[0] #найдём пределы с помощью интеграла\n",
        "    if entry_result_0.args[0].has(sympy.Integral): #проверка на то, является ли интеграл единственным в первой строке\n",
        "      t_0 = entry_result_0.args[0].args[1][1]\n",
        "      t_1 = entry_result_0.args[0].args[1][2]\n",
        "    else:\n",
        "      t_0 = entry_result_0.args[1][1]\n",
        "      t_1 = entry_result_0.args[1][2]\n",
        "    return [t_0, t_1]\n",
        "\n",
        "  def transversalnost(self): #условия трансверсальности\n",
        "    first_eq = sympy.Eq(p(t).subs(t, self.t()[0]), self.l().diff(x(t).subs(t, self.t()[0]))) #условие с t_0\n",
        "    second_eq = sympy.Eq(p(t).subs(t, self.t()[1]), -self.l().diff(x(t).subs(t, self.t()[1]))) #условие с t_1\n",
        "    return [first_eq, second_eq]\n",
        "\n",
        "  def p_find(self): #поиск p с помощью решения второй двойственной системы\n",
        "    tr = self.transversalnost()\n",
        "    lam = self.k_lambda()\n",
        "    res = sympy.dsolve(self.dual_system()[1], ics={tr[0].lhs : tr[0].rhs}) #решение уравнения с одним условием трансверсальности\n",
        "    dict_lambda = sympy.solve(res.lhs.subs(p(t), tr[1].rhs) - res.rhs.subs(t, tr[1].lhs.args[0]), dict=True)[0] #получаем словарь из lambda после решения с другим условием трансверсальности\n",
        "    for key, value in dict_lambda.items():\n",
        "      result_lambda = sympy.Eq(key, value) #превращаем словарь с lambda в уравнение c lambda\n",
        "    result_lambda_1 = result_lambda.subs(lam[0], 1) #подставляем lambda_0 = 1\n",
        "    result_lambda_2 = result_lambda.subs(lam[0], 0) #подставляем lambda_0 = 0\n",
        "    for key, value in sympy.solve(result_lambda_1.lhs - result_lambda_1.rhs, dict=True)[0].items():\n",
        "      result_1 = res.subs(lam[0], 1).subs(key, value) #находим p, подставляя lambda\n",
        "      self.k[1] = [value]\n",
        "    for key, value in sympy.solve(result_lambda_2.lhs - result_lambda_2.rhs, dict=True)[0].items():\n",
        "      result_2 = res.subs(lam[0], 0).subs(key, value) #находим p, подставляя lambda\n",
        "      self.k[1].append(value) \n",
        "    if self.check_lambda(): #если lambda_0 == 0\n",
        "      return [result_1.rhs]\n",
        "    else:\n",
        "      return [result_1.rhs, result_2.rhs]\n",
        "\n",
        "  def u_find(self): #поиск u на основании того, что H-непрерывный\n",
        "    lam = self.k_lambda()\n",
        "    p_new = self.p_find()\n",
        "    H = self.H()\n",
        "    if self.check_lambda():\n",
        "      return [(sympy.solve(H.diff(u(t)).subs(lam[0], 1), u(t), list=True)[0]).subs(p(t), p_new[0]).subs(lam[1], self.k[1][0])] #решение уравнения H_u = 0\n",
        "    else:\n",
        "      return [(sympy.solve(H.diff(u(t)).subs(lam[0], 1), u(t))[0]).subs(p(t), p_new[0]).subs(lam[1], self.k[1][0]), \\\n",
        "              (sympy.solve(H.diff(u(t)).subs(lam[0], 0), u(t))[0]).subs(p(t), p_new[1]).subs(lam[1], self.k[1][1])]\n",
        "  \n",
        "  def x_find(self): #поиск x на с помощью решения первой двойственной системы\n",
        "    expr = self.dual_system()[0]\n",
        "    u_new = self.u_find()\n",
        "    if self.check_lambda():\n",
        "      return [sympy.dsolve(expr.subs(u(t), u_new[0]), x(t)).rhs]\n",
        "    else:\n",
        "      return [sympy.dsolve(expr.subs(u(t), u_new[0]), x(t)).rhs, sympy.dsolve(expr.subs(u(t), u_new[1]), x(t)).rhs]\n",
        "\n",
        "  def check_integral(self, u_new, x_new, x_new_0, x_new_1, flag=-1): #проверка на наличие интеграла\n",
        "    sol = []\n",
        "    t_new = self.t()\n",
        "    for formula in self.entry()[:-2]:\n",
        "      if flag == 1:\n",
        "        temp = formula\n",
        "        flag = 0\n",
        "      elif flag == -1:\n",
        "        flag = 0\n",
        "        continue\n",
        "      else:\n",
        "        temp = (formula.lhs - formula.rhs)\n",
        "      if temp.has(sympy.Integral):\n",
        "        if temp.args[0].has(sympy.Integral):\n",
        "          temp_1 = temp.replace(temp.args[0], sympy.integrate(temp.args[0].args[0].subs([(u(t), u_new), (x(t), x_new)]).doit(),(t,t_new[0], t_new[1])))\n",
        "          sol.append(sympy.simplify(temp_1.replace(temp.args[1], temp.args[1].subs([(x(t_new[0]), x_new_0), (x(t_new[1]), x_new_1)]).doit())))\n",
        "        else:\n",
        "          sol.append(sympy.simplify(temp.replace(temp ,sympy.integrate(temp.args[0].subs([(u(t), u_new), (x(t), x_new)]).doit(), (t, t_new[0], t_new[1])))))\n",
        "      else:\n",
        "        sol.append(sympy.simplify(sympy.Eq(temp.subs([(x(t_new[0]), x_new_0), (x(t_new[1]), x_new_1)]).doit(), 0)))\n",
        "    return sol\n",
        "\n",
        "\n",
        "  def solution(self): #решает СУ из начальных условий и выводит dict\n",
        "    t_new = self.t()\n",
        "    x_new = self.x_find()\n",
        "    u_new = self.u_find()\n",
        "    sol_1 = self.check_integral(u_new[0], x_new[0], x_new[0].subs(t, t_new[0]), x_new[0].subs(t, t_new[1]))\n",
        "    if self.check_lambda():\n",
        "      return sympy.solve(sol_1, list(sol_1[-1].free_symbols), dict=True)\n",
        "    else:\n",
        "      sol_2 = self.check_integral(u_new[1], x_new[1], x_new[1].subs(t, t_new[0]), x_new[1].subs(t, t_new[1]))\n",
        "      return [sympy.solve(sol_1, list(sol_1[-1].free_symbols), dict=True), \\\n",
        "              sympy.solve(sol_2, list(sol_2[-1].free_symbols), dict=True)]\n",
        "\n",
        "\n",
        "  def fill_lambda(self, lambda_sol, index):\n",
        "    self.k[0] = [1,0]\n",
        "    lam = self.k_lambda()\n",
        "    for key, value in lambda_sol.items():\n",
        "      self.x[index] = self.x[index].subs(key, value)\n",
        "      self.u[index] = self.u[index].subs(key, value)\n",
        "      for ind, value_lambda in enumerate(lam):\n",
        "        if value_lambda == key:\n",
        "          self.k[ind][index] = value\n",
        "          self.k[1][index] = self.k[1][index].subs(key, value)\n",
        "\n",
        "  def KKT(self):\n",
        "    self.x = self.x_find()\n",
        "    self.u = self.u_find()\n",
        "    t_new = self.t()\n",
        "    self.fill_lambda(self.solution()[0], 0)\n",
        "    functional_1 = self.check_integral(self.u[0], self.x[0], self.x[0].subs(t, t_new[0]), self.x[0].subs(t, t_new[1]), 1)\n",
        "    if self.check_lambda():\n",
        "      return [(functional_1[index], self.k[index][0]) for index in range(len(functional_1))]\n",
        "    else:\n",
        "      self.fill_lambda(self.solution()[1], 1)\n",
        "      functional_2 = self.check_integral(self.u[1], self.x[1], self.x[1].subs(t, t_new[0]), self.x[1].subs(t, t_new[1]), 1)\n",
        "      return [[(functional_1[index], self.k[index][0]) for index in range(len(functional_1))], [(functional_2[index], self.k[index][1]) for index in range(len(functional_2))]]\n",
        "      \n",
        "  def start(self):\n",
        "    return self.entry(), \\\n",
        "           self.L(), \\\n",
        "           self.l(), \\\n",
        "           self.H(), \\\n",
        "           self.dual_system(), \\\n",
        "           self.transversalnost(), \\\n",
        "           self.p_find(), \\\n",
        "           self.x_find(), \\\n",
        "           self.u_find(), \\\n",
        "           self.solution(), \\\n",
        "           self.KKT()"
      ],
      "metadata": {
        "id": "NWiuhz8V-qf6"
      },
      "execution_count": null,
      "outputs": []
    },
    {
      "cell_type": "code",
      "source": [
        "test = Pontrygin_Method('task_4.txt')"
      ],
      "metadata": {
        "id": "S54wht91GZzD"
      },
      "execution_count": null,
      "outputs": []
    },
    {
      "cell_type": "code",
      "source": [
        "test.entry()"
      ],
      "metadata": {
        "colab": {
          "base_uri": "https://localhost:8080/",
          "height": 80
        },
        "id": "zTnddKgW1D0U",
        "outputId": "46e0e936-dbda-4b4d-cca6-bfdad56f9f99"
      },
      "execution_count": null,
      "outputs": [
        {
          "output_type": "execute_result",
          "data": {
            "text/plain": [
              "⎡4                                                               ⎤\n",
              "⎢⌠                                                               ⎥\n",
              "⎢⎮ ⎛                 2⎞                                          ⎥\n",
              "⎢⎮ ⎜       ⎛d       ⎞ ⎟               d                          ⎥\n",
              "⎢⎮ ⎜x(t) + ⎜──(x(t))⎟ ⎟ dt, x(0) = 0, ──(x(t)) = u(t), │u(t)│ ≤ 1⎥\n",
              "⎢⎮ ⎝       ⎝dt      ⎠ ⎠               dt                         ⎥\n",
              "⎢⌡                                                               ⎥\n",
              "⎣0                                                               ⎦"
            ],
            "image/png": "[encoded data removed]",
            "text/latex": "$\\displaystyle \\left[ \\int\\limits_{0}^{4} \\left(x{\\left(t \\right)} + \\left(\\frac{d}{d t} x{\\left(t \\right)}\\right)^{2}\\right)\\, dt, \\  x{\\left(0 \\right)} = 0, \\  \\frac{d}{d t} x{\\left(t \\right)} = u{\\left(t \\right)}, \\  \\left|{u{\\left(t \\right)}}\\right| \\leq 1\\right]$"
          },
          "metadata": {},
          "execution_count": 139
        }
      ]
    },
    {
      "cell_type": "code",
      "source": [
        "test.H()"
      ],
      "metadata": {
        "colab": {
          "base_uri": "https://localhost:8080/",
          "height": 39
        },
        "id": "5x2xVYGZ0YRz",
        "outputId": "ab56ebf2-f5cf-4139-d453-86e9d41b216f"
      },
      "execution_count": null,
      "outputs": [
        {
          "output_type": "execute_result",
          "data": {
            "text/plain": [
              "      2                         \n",
              "- λ₀⋅u (t) - λ₀⋅x(t) + p(t)⋅u(t)"
            ],
            "image/png": "[encoded data removed]",
            "text/latex": "$\\displaystyle - \\lambda_{0} u^{2}{\\left(t \\right)} - \\lambda_{0} x{\\left(t \\right)} + p{\\left(t \\right)} u{\\left(t \\right)}$"
          },
          "metadata": {},
          "execution_count": 126
        }
      ]
    },
    {
      "cell_type": "code",
      "source": [
        "test.L()"
      ],
      "metadata": {
        "colab": {
          "base_uri": "https://localhost:8080/",
          "height": 58
        },
        "id": "pmUtqYUD0Yaa",
        "outputId": "90144392-4af9-4b96-f25b-203978e36298"
      },
      "execution_count": null,
      "outputs": [
        {
          "output_type": "execute_result",
          "data": {
            "text/plain": [
              "   ⎛ 2          ⎞   ⎛       d       ⎞     \n",
              "λ₀⋅⎝u (t) + x(t)⎠ - ⎜u(t) - ──(x(t))⎟⋅p(t)\n",
              "                    ⎝       dt      ⎠     "
            ],
            "image/png": "[encoded data removed]",
            "text/latex": "$\\displaystyle \\lambda_{0} \\left(u^{2}{\\left(t \\right)} + x{\\left(t \\right)}\\right) - \\left(u{\\left(t \\right)} - \\frac{d}{d t} x{\\left(t \\right)}\\right) p{\\left(t \\right)}$"
          },
          "metadata": {},
          "execution_count": 127
        }
      ]
    },
    {
      "cell_type": "code",
      "source": [
        "test.l()"
      ],
      "metadata": {
        "colab": {
          "base_uri": "https://localhost:8080/",
          "height": 39
        },
        "id": "K02945sp0Ycx",
        "outputId": "99c76e6d-6e98-461b-cf47-a667814f3dee"
      },
      "execution_count": null,
      "outputs": [
        {
          "output_type": "execute_result",
          "data": {
            "text/plain": [
              "λ₁⋅x(0)"
            ],
            "image/png": "[encoded data removed]",
            "text/latex": "$\\displaystyle \\lambda_{1} x{\\left(0 \\right)}$"
          },
          "metadata": {},
          "execution_count": 128
        }
      ]
    },
    {
      "cell_type": "code",
      "source": [
        "test.dual_system()"
      ],
      "metadata": {
        "colab": {
          "base_uri": "https://localhost:8080/",
          "height": 58
        },
        "id": "r7MeMjft0YfK",
        "outputId": "f0f58fb0-9d14-4a1f-8f56-77a3dda248b6"
      },
      "execution_count": null,
      "outputs": [
        {
          "output_type": "execute_result",
          "data": {
            "text/plain": [
              "⎡d                d            ⎤\n",
              "⎢──(x(t)) = u(t), ──(p(t)) = λ₀⎥\n",
              "⎣dt               dt           ⎦"
            ],
            "image/png": "[encoded data removed]",
            "text/latex": "$\\displaystyle \\left[ \\frac{d}{d t} x{\\left(t \\right)} = u{\\left(t \\right)}, \\  \\frac{d}{d t} p{\\left(t \\right)} = \\lambda_{0}\\right]$"
          },
          "metadata": {},
          "execution_count": 129
        }
      ]
    },
    {
      "cell_type": "code",
      "source": [
        "test.x_find()"
      ],
      "metadata": {
        "colab": {
          "base_uri": "https://localhost:8080/",
          "height": 58
        },
        "id": "CwkZgqzp0Yhg",
        "outputId": "e68e1a8a-13cd-40e5-ba08-1486230aac38"
      },
      "execution_count": null,
      "outputs": [
        {
          "output_type": "execute_result",
          "data": {
            "text/plain": [
              "⎡      2      ⎤\n",
              "⎢     t       ⎥\n",
              "⎢C₁ + ── - 2⋅t⎥\n",
              "⎣     4       ⎦"
            ],
            "image/png": "[encoded data removed]",
            "text/latex": "$\\displaystyle \\left[ C_{1} + \\frac{t^{2}}{4} - 2 t\\right]$"
          },
          "metadata": {},
          "execution_count": 130
        }
      ]
    },
    {
      "cell_type": "code",
      "source": [
        "test.u_find()"
      ],
      "metadata": {
        "colab": {
          "base_uri": "https://localhost:8080/",
          "height": 58
        },
        "id": "TQT34ISR0YjT",
        "outputId": "2229f45a-2953-403d-e10a-4bb40eb9e163"
      },
      "execution_count": null,
      "outputs": [
        {
          "output_type": "execute_result",
          "data": {
            "text/plain": [
              "⎡t    ⎤\n",
              "⎢─ - 2⎥\n",
              "⎣2    ⎦"
            ],
            "image/png": "[encoded data removed]",
            "text/latex": "$\\displaystyle \\left[ \\frac{t}{2} - 2\\right]$"
          },
          "metadata": {},
          "execution_count": 131
        }
      ]
    },
    {
      "cell_type": "code",
      "source": [
        "test.p_find()"
      ],
      "metadata": {
        "colab": {
          "base_uri": "https://localhost:8080/",
          "height": 39
        },
        "id": "QLkrap9p0Ylq",
        "outputId": "d173713a-0baf-423a-c46c-e7762266f5e8"
      },
      "execution_count": null,
      "outputs": [
        {
          "output_type": "execute_result",
          "data": {
            "text/plain": [
              "[t - 4]"
            ],
            "image/png": "[encoded data removed]",
            "text/latex": "$\\displaystyle \\left[ t - 4\\right]$"
          },
          "metadata": {},
          "execution_count": 132
        }
      ]
    },
    {
      "cell_type": "code",
      "source": [
        "test.solution()"
      ],
      "metadata": {
        "colab": {
          "base_uri": "https://localhost:8080/",
          "height": 39
        },
        "id": "Ttj-fOdz0rPj",
        "outputId": "1943ffbb-7ed7-4f9b-aa09-f6b4fd17a9b7"
      },
      "execution_count": null,
      "outputs": [
        {
          "output_type": "execute_result",
          "data": {
            "text/plain": [
              "[{C₁: 0}]"
            ],
            "image/png": "[encoded data removed]",
            "text/latex": "$\\displaystyle \\left[ \\left\\{ C_{1} : 0\\right\\}\\right]$"
          },
          "metadata": {},
          "execution_count": 133
        }
      ]
    },
    {
      "cell_type": "code",
      "source": [
        "test.KKT()"
      ],
      "metadata": {
        "colab": {
          "base_uri": "https://localhost:8080/",
          "height": 58
        },
        "id": "oZ3iLsfP0urk",
        "outputId": "f43d4c04-30c0-489b-fb98-284ce10057e9"
      },
      "execution_count": null,
      "outputs": [
        {
          "output_type": "execute_result",
          "data": {
            "text/plain": [
              "[(-16/3, 1), (True, -4)]"
            ],
            "text/latex": "$\\displaystyle \\left[ \\left( - \\frac{16}{3}, \\  1\\right), \\  \\left( \\text{True}, \\  -4\\right)\\right]$"
          },
          "metadata": {},
          "execution_count": 134
        }
      ]
    },
    {
      "cell_type": "code",
      "source": [
        "t= sympy.symbols('t')\n",
        "p = sympy.Function('p')\n",
        "x = sympy.Function('x')\n",
        "u = sympy.Function('u')"
      ],
      "metadata": {
        "id": "QG2ExetTjW1u"
      },
      "execution_count": null,
      "outputs": []
    },
    {
      "cell_type": "markdown",
      "source": [
        "Оптимизированный класс"
      ],
      "metadata": {
        "id": "2EMF91cOXvsC"
      }
    },
    {
      "cell_type": "code",
      "source": [
        "from sympy.solvers.inequalities import reduce_rational_inequalities\n",
        "from sympy.solvers import inequalities\n",
        "class Pontrygin_Method_test:\n",
        "  t= sympy.symbols('t')\n",
        "  p = sympy.Function('p')\n",
        "  x = sympy.Function('x')\n",
        "  u = sympy.Function('u')\n",
        "  @staticmethod\n",
        "  def f_function(expr): #функции f\n",
        "    if expr.has(sympy.Integral): #проверяем наличие интеграла в выражении\n",
        "      if expr.args[0].has(sympy.Integral): #если выражение состоит только из интеграла, то False. Иначе True\n",
        "        f = expr.args[0].args[0] #берём подытегральное выражение\n",
        "      else:\n",
        "        f = expr.args[0] #берём подытегральное выражение\n",
        "    else:\n",
        "      f = 0\n",
        "    return f\n",
        "\n",
        "  @staticmethod\n",
        "  def ksi_function(expr): #функции ksi\n",
        "    if expr.has(sympy.Integral):\n",
        "      if expr.args[0].has(sympy.Integral): #Если на первом месте стоит интеграл, то значит у нас больше двух коэффициентов, значит второй - наше выражение\n",
        "        ksi = expr.args[1]\n",
        "      else:\n",
        "        ksi = 0 #если False, то значит у нас только интеграл\n",
        "    else:\n",
        "      ksi = expr\n",
        "    return ksi\n",
        "\n",
        "  @staticmethod\n",
        "  def _check_integral(u_new, x_new, x_new_0, x_new_1, t_new, temp):\n",
        "    if temp.has(sympy.Integral):\n",
        "      if temp.args[0].has(sympy.Integral):\n",
        "        temp_1 = temp.replace(temp.args[0], sympy.integrate(temp.args[0].args[0].subs([(u(t), u_new), (x(t), x_new)]).doit(),(t,t_new[0], t_new[1])))\n",
        "        sol = sympy.simplify(temp_1.replace(temp.args[1], temp.args[1].subs([(x(t_new[0]), x_new_0), (x(t_new[1]), x_new_1)]).doit()))\n",
        "      else:\n",
        "        sol = sympy.simplify(temp.replace(temp ,sympy.integrate(temp.args[0].subs([(u(t), u_new), (x(t), x_new)]).doit(), (t, t_new[0], t_new[1]))))\n",
        "    else:\n",
        "      sol = sympy.simplify(temp.subs([(x(t_new[0]), x_new_0), (x(t_new[1]), x_new_1)]).doit())\n",
        "    return sol\n",
        "\n",
        "  @staticmethod\n",
        "  def _check_conditions(conditions, k):\n",
        "    eq = []\n",
        "    ineq = conditions[1]\n",
        "    for i in range(len(conditions[0])):\n",
        "      eq.append(sympy.Eq(k[i + 1] * conditions[0][i], 0)) # lambda_i * functional_i\n",
        "    for j in range(1, 1 + len(conditions[0]) + len(conditions[1])):\n",
        "      ineq.append(k[j])\n",
        "    return (eq, ineq)\n",
        "\n",
        "  @staticmethod\n",
        "  def _result_solution(x, u, p, condition, k, res):\n",
        "    for key, value in res.items():\n",
        "      x = x.subs(key, value)\n",
        "      u = u.subs(key, value)\n",
        "      p = p.subs(key, value)\n",
        "      for ind in range(1, len(k)):\n",
        "        k[ind] = k[ind].subs(key, value)\n",
        "      for ind in range(len(condition)):\n",
        "        condition[ind] = condition[ind].subs(key, value)\n",
        "    return x, u, p, k, condition\n",
        "\n",
        "\n",
        "  def decorator_initial(func):\n",
        "    def wrapper(self, s):\n",
        "      func(self, s)\n",
        "      setattr(Pontrygin_Method_test, 'entry', self._entry())\n",
        "      setattr(Pontrygin_Method_test, 'k_0', self._get_lambda_function())\n",
        "      setattr(Pontrygin_Method_test, 'k_1', self._get_lambda_function())\n",
        "      setattr(Pontrygin_Method_test, 'k', self._get_lambda_function())\n",
        "      setattr(Pontrygin_Method_test, 't', self._t())\n",
        "      setattr(Pontrygin_Method_test, 'm', self._get_m_function())\n",
        "    return wrapper\n",
        "\n",
        "  @decorator_initial\n",
        "  def __init__(self, s):\n",
        "    self.s = s\n",
        "    self.x = [] #решение x\n",
        "    self.u = [] #решение u\n",
        "\n",
        "  def _entry(self): #точка входа\n",
        "    result = []\n",
        "    with open(self.s, 'r') as file:\n",
        "      for latex in file:\n",
        "        result.append(parse_latex(r'{}'.format(latex)))\n",
        "    return result\n",
        "\n",
        "  def _get_m_function(self):\n",
        "    m = 1\n",
        "    for formula in self.entry[1:-2]:\n",
        "      if formula.rel_op == '<=':\n",
        "        break\n",
        "      m += 1\n",
        "    return m\n",
        "\n",
        "  def _get_lambda_function(self):\n",
        "    k = []\n",
        "    for i in range(len(self.entry[:-2])):\n",
        "      k.append(sympy.symbols('lambda_{}'.format(i)))\n",
        "    return k\n",
        "  \n",
        "  def _t(self): #Горизон действия\n",
        "    entry_result_0 = self.entry[0] #найдём пределы с помощью интеграла\n",
        "    if entry_result_0.args[0].has(sympy.Integral): #проверка на то, является ли интеграл единственным в первой строке\n",
        "      t_0 = entry_result_0.args[0].args[1][1]\n",
        "      t_1 = entry_result_0.args[0].args[1][2]\n",
        "    else:\n",
        "      t_0 = entry_result_0.args[1][1]\n",
        "      t_1 = entry_result_0.args[1][2]\n",
        "    return [t_0, t_1]\n",
        "\n",
        "  def L(self): #Лагранжиан\n",
        "    f = self.k[0] * self.f_function(self.entry[0]) #Функционал\n",
        "    for i, formula in enumerate(self.entry[1:-2], 1): #Ограничения\n",
        "      f += self.k[i] * self.f_function(formula.lhs - formula.rhs)\n",
        "    return sympy.simplify((p(t) * (x(t).diff(t) - self.entry[-2].rhs) + f.subs(self.entry[-2].lhs, self.entry[-2].rhs)))\n",
        "\n",
        "  def H(self): #Гамильтониан\n",
        "    return sympy.simplify(self.L().diff(x(t).diff(t)) * x(t).diff(t) - self.L())\n",
        "\n",
        "  def l(self): #l-функция\n",
        "    ksi = self.k[0] * self.ksi_function(self.entry[0]) #Функционал\n",
        "    for i, formula in enumerate(self.entry[1:-2], 1): #Ограничения\n",
        "      ksi += self.k[i] * self.ksi_function(formula.lhs - formula.rhs)\n",
        "    return sympy.simplify(ksi)\n",
        "\n",
        "  def dual_system(self): #двойственная система\n",
        "    return [sympy.Eq(x(t).diff(t), self.H().diff(p(t))), sympy.Eq(p(t).diff(t), - self.H().diff(x(t)))]\n",
        "  \n",
        "  def check_lambda(self): #проверка, подходит ли lambda_0 == 0\n",
        "    if self.dual_system()[1].subs(self.k[0], 0).rhs == 0:\n",
        "      return 0\n",
        "    else:\n",
        "      return 1\n",
        "\n",
        "  def transversalnost(self): #условия трансверсальности\n",
        "    first_eq = sympy.Eq(p(t).subs(t, self.t[0]), self.l().diff(x(t).subs(t, self.t[0]))) #условие с t_0\n",
        "    second_eq = sympy.Eq(p(t).subs(t, self.t[1]), -self.l().diff(x(t).subs(t, self.t[1]))) #условие с t_1\n",
        "    return [first_eq, second_eq]\n",
        "\n",
        "  def decorator_solve(func):\n",
        "    def wrapper(self):\n",
        "      func(self)\n",
        "      self._u_find()\n",
        "      self._x_find()\n",
        "    return wrapper\n",
        "\n",
        "  @decorator_solve\n",
        "  def find_all(self): #поиск p с помощью решения второй двойственной системы\n",
        "    tr = self.transversalnost()\n",
        "    res = sympy.dsolve(self.dual_system()[1], ics={tr[0].lhs : tr[0].rhs}) #решение уравнения с одним условием трансверсальности\n",
        "    dict_lambda = sympy.solve(res.lhs.subs(p(t), tr[1].rhs) - res.rhs.subs(t, tr[1].lhs.args[0]), dict=True)[0] #получаем словарь из lambda после решения с другим условием трансверсальности\n",
        "    for key, value in dict_lambda.items():\n",
        "      result_lambda = sympy.Eq(key, value) #превращаем словарь с lambda в уравнение c lambda\n",
        "    result_lambda_1 = result_lambda.subs(self.k[0], 1) #подставляем lambda_0 = 1\n",
        "    result_lambda_0 = result_lambda.subs(self.k[0], 0) #подставляем lambda_0 = 0\n",
        "    self.k_0[0], self.k_1[0] = 0, 1 \n",
        "    for key, value in sympy.solve(result_lambda_1.lhs - result_lambda_1.rhs, dict=True)[0].items():\n",
        "      result_1 = res.subs(self.k[0], 1).subs(key, value) #находим p, подставляя lambda\n",
        "      self.k_1[1] = value\n",
        "    for key, value in sympy.solve(result_lambda_0.lhs - result_lambda_0.rhs, dict=True)[0].items():\n",
        "      result_0 = res.subs(self.k[0], 0).subs(key, value) #находим p, подставляя lambda\n",
        "      self.k_0[1] = value\n",
        "    setattr(Pontrygin_Method_test, 'p_1', result_1.rhs)\n",
        "    if self.check_lambda(): #если lambda_0 == 0\n",
        "      setattr(Pontrygin_Method_test, 'p_0', result_0.rhs)\n",
        "\n",
        "  def _u_find(self): #поиск u на основании того, что H-непрерывный\n",
        "    H = self.H()\n",
        "    setattr(Pontrygin_Method_test, 'u_1', (sympy.solve(H.diff(u(t)).subs(self.k[0], 1), u(t), list=True)[0]).subs(p(t), self.p_1).subs(self.k[1], self.k_1[1]))\n",
        "    if self.check_lambda():\n",
        "      setattr(Pontrygin_Method_test, 'u_0', (sympy.solve(H.diff(u(t)).subs(self.k[0], 0), u(t), list=True)[0]).subs(p(t), self.p_0).subs(self.k[1], self.k_0[1]))\n",
        "\n",
        "  def _x_find(self): #поиск x на с помощью решения первой двойственной системы\n",
        "    expr = self.dual_system()[0]\n",
        "    setattr(Pontrygin_Method_test, 'x_1', sympy.dsolve(expr.subs(u(t), self.u_1), x(t)).rhs)\n",
        "    if self.check_lambda():\n",
        "      setattr(Pontrygin_Method_test, 'x_0', sympy.dsolve(expr.subs(u(t), self.u_0), x(t)).rhs)\n",
        "\n",
        "  def _eq_and_ineq(self, u_new, x_new, x_new_0, x_new_1, t_new): #разбение на уравнения и неравенства для ККТ\n",
        "    sol = []\n",
        "    ineq = []\n",
        "    for formula in self.entry[1:-2]:\n",
        "      if (formula.rel_op == '<='):\n",
        "        ineq.append(self._check_integral(u_new, x_new, x_new_0, x_new_1, t_new, formula.lhs - formula.rhs))\n",
        "      else:\n",
        "        sol.append(self._check_integral(u_new, x_new, x_new_0, x_new_1, t_new, formula.lhs - formula.rhs))\n",
        "    return (sol, ineq)\n",
        "\n",
        "\n",
        "  def _new_conditions(self):\n",
        "    sol_1 = self._eq_and_ineq(self.u_1, self.x_1, self.x_1.subs(t, self.t[0]), self.x_1.subs(t, self.t[1]), self.t)\n",
        "    setattr(Pontrygin_Method_test, 'conditions_1', [sol_1[0], sol_1[1]])\n",
        "    if self.check_lambda():\n",
        "      sol_0 = self._eq_and_ineq(self.u_0, self.x_0, self.x_0.subs(t, self.t[0]), self.x_0.subs(t, self.t[1]), self.t)\n",
        "      setattr(Pontrygin_Method_test, 'conditions_0', [sol_0[0], sol_0[1]]) \n",
        "\n",
        "\n",
        "  def new_KKT(self):\n",
        "    self.find_all()\n",
        "    self._new_conditions()\n",
        "    kkt_cond_1 = self._check_conditions(self.conditions_1, self.k_1)\n",
        "    setattr(Pontrygin_Method_test, 'kkt_1', kkt_cond_1)\n",
        "    if self.check_lambda():\n",
        "      kkt_cond_0 = self._check_conditions(self.conditions_0, self.k_0)\n",
        "      setattr(Pontrygin_Method_test, 'kkt_0', kkt_cond_0)\n",
        "      return [kkt_cond_1, kkt_cond_0]\n",
        "    else:\n",
        "      return [kkt_cond_1]\n",
        "\n",
        "  def new_eq_solution(self):\n",
        "    eq_1 = self.new_KKT()[0][0]\n",
        "    return sympy.solve(eq_1, list(eq_1[-1].free_symbols), dict=True)\n",
        "    if self.check_lambda():\n",
        "      eq_0 = self.new_KKT()[1][0]\n",
        "      return [sympy.solve(eq_1, list(eq_1[-1].free_symbols), dict=True),\\\n",
        "              sympy.solve(eq_0, list(eq_0[-1].free_symbols), dict=True)]\n",
        "\n",
        "  def check_solution_with_ineq(self):\n",
        "    d_list = self.new_eq_solution()\n",
        "    ineq = self.new_KKT()[0][1]\n",
        "    for d in d_list:\n",
        "      # symbol = []\n",
        "      k = 0\n",
        "      for formula in ineq:\n",
        "        temp = formula\n",
        "        for key, value in d.items():\n",
        "          temp = temp.subs(key, value)\n",
        "        # symbol = list(set(symbol))\n",
        "        # symbol.extend(list(temp.free_symbols))\n",
        "        if temp <= 0:\n",
        "            k += 1\n",
        "      if k == len(ineq):\n",
        "        return d\n",
        "\n",
        "\n",
        "  def result(self):\n",
        "    res = self.check_solution_with_ineq()\n",
        "    return self._result_solution(self.x_1, self.u_1, self.p_1, self.kkt_1[0], self.k_1, res)"
      ],
      "metadata": {
        "id": "hfJsfy85V9A3"
      },
      "execution_count": null,
      "outputs": []
    },
    {
      "cell_type": "code",
      "source": [
        "test = Pontrygin_Method_test('task_3.txt')"
      ],
      "metadata": {
        "id": "FCaxCkTqWBsx"
      },
      "execution_count": null,
      "outputs": []
    },
    {
      "cell_type": "code",
      "source": [
        "test.entry"
      ],
      "metadata": {
        "colab": {
          "base_uri": "https://localhost:8080/",
          "height": 80
        },
        "id": "OAP23dB41APc",
        "outputId": "8de902e6-b99c-4182-a9e9-d11caf898668"
      },
      "execution_count": null,
      "outputs": [
        {
          "output_type": "execute_result",
          "data": {
            "text/plain": [
              "⎡4                                                                            \n",
              "⎢⌠                                                                            \n",
              "⎢⎮ ⎛                 2⎞                                                       \n",
              "⎢⎮ ⎜       ⎛d       ⎞ ⎟                                d                      \n",
              "⎢⎮ ⎜x(t) + ⎜──(x(t))⎟ ⎟ dt, x(0) = 0, x(0) + x(4) = 1, ──(x(t)) = u(t), │u(t)│\n",
              "⎢⎮ ⎝       ⎝dt      ⎠ ⎠                                dt                     \n",
              "⎢⌡                                                                            \n",
              "⎣0                                                                            \n",
              "\n",
              "    ⎤\n",
              "    ⎥\n",
              "    ⎥\n",
              "    ⎥\n",
              " ≤ 1⎥\n",
              "    ⎥\n",
              "    ⎥\n",
              "    ⎦"
            ],
            "image/png": "[encoded data removed]",
            "text/latex": "$\\displaystyle \\left[ \\int\\limits_{0}^{4} \\left(x{\\left(t \\right)} + \\left(\\frac{d}{d t} x{\\left(t \\right)}\\right)^{2}\\right)\\, dt, \\  x{\\left(0 \\right)} = 0, \\  x{\\left(0 \\right)} + x{\\left(4 \\right)} = 1, \\  \\frac{d}{d t} x{\\left(t \\right)} = u{\\left(t \\right)}, \\  \\left|{u{\\left(t \\right)}}\\right| \\leq 1\\right]$"
          },
          "metadata": {},
          "execution_count": 137
        }
      ]
    },
    {
      "cell_type": "code",
      "source": [
        "test.L()"
      ],
      "metadata": {
        "colab": {
          "base_uri": "https://localhost:8080/",
          "height": 39
        },
        "id": "thai8RuJjk-6",
        "outputId": "d81cc647-d8b6-486a-d45f-c0ee9fc7d4fc"
      },
      "execution_count": null,
      "outputs": [
        {
          "output_type": "execute_result",
          "data": {
            "text/plain": [
              "      2                         \n",
              "- λ₀⋅u (t) - λ₀⋅x(t) + p(t)⋅u(t)"
            ],
            "image/png": "[encoded data removed]",
            "text/latex": "$\\displaystyle - \\lambda_{0} u^{2}{\\left(t \\right)} - \\lambda_{0} x{\\left(t \\right)} + p{\\left(t \\right)} u{\\left(t \\right)}$"
          },
          "metadata": {},
          "execution_count": 82
        }
      ]
    },
    {
      "cell_type": "code",
      "source": [
        "test.H()"
      ],
      "metadata": {
        "colab": {
          "base_uri": "https://localhost:8080/",
          "height": 39
        },
        "id": "Y9LJl3ZrxCJ4",
        "outputId": "07d86194-098a-44c1-e5f7-fe51f8c684c0"
      },
      "execution_count": null,
      "outputs": [
        {
          "output_type": "execute_result",
          "data": {
            "text/plain": [
              "      2                         \n",
              "- λ₀⋅u (t) - λ₀⋅x(t) + p(t)⋅u(t)"
            ],
            "image/png": "[encoded data removed]",
            "text/latex": "$\\displaystyle - \\lambda_{0} u^{2}{\\left(t \\right)} - \\lambda_{0} x{\\left(t \\right)} + p{\\left(t \\right)} u{\\left(t \\right)}$"
          },
          "metadata": {},
          "execution_count": 83
        }
      ]
    },
    {
      "cell_type": "code",
      "source": [
        "test.l()"
      ],
      "metadata": {
        "colab": {
          "base_uri": "https://localhost:8080/",
          "height": 39
        },
        "id": "8Q_lMet2xOXU",
        "outputId": "7684f015-7e01-4484-93c0-6a6c859a95e8"
      },
      "execution_count": null,
      "outputs": [
        {
          "output_type": "execute_result",
          "data": {
            "text/plain": [
              "λ₁⋅x(0) + λ₂⋅(x(0) + x(4) - 1)"
            ],
            "image/png": "[encoded data removed]",
            "text/latex": "$\\displaystyle \\lambda_{1} x{\\left(0 \\right)} + \\lambda_{2} \\left(x{\\left(0 \\right)} + x{\\left(4 \\right)} - 1\\right)$"
          },
          "metadata": {},
          "execution_count": 84
        }
      ]
    },
    {
      "cell_type": "code",
      "source": [
        "test.dual_system()"
      ],
      "metadata": {
        "colab": {
          "base_uri": "https://localhost:8080/",
          "height": 58
        },
        "id": "bR9nZkTixQEi",
        "outputId": "d96148e8-29a2-403a-80a6-8b45ecc99eea"
      },
      "execution_count": null,
      "outputs": [
        {
          "output_type": "execute_result",
          "data": {
            "text/plain": [
              "⎡d                d            ⎤\n",
              "⎢──(x(t)) = u(t), ──(p(t)) = λ₀⎥\n",
              "⎣dt               dt           ⎦"
            ],
            "image/png": "[encoded data removed]",
            "text/latex": "$\\displaystyle \\left[ \\frac{d}{d t} x{\\left(t \\right)} = u{\\left(t \\right)}, \\  \\frac{d}{d t} p{\\left(t \\right)} = \\lambda_{0}\\right]$"
          },
          "metadata": {},
          "execution_count": 85
        }
      ]
    },
    {
      "cell_type": "code",
      "source": [
        "test.transversalnost()"
      ],
      "metadata": {
        "colab": {
          "base_uri": "https://localhost:8080/",
          "height": 39
        },
        "id": "orDlI3mMxUXV",
        "outputId": "d64dfa98-567b-4ff5-b731-1b5697af6d55"
      },
      "execution_count": null,
      "outputs": [
        {
          "output_type": "execute_result",
          "data": {
            "text/plain": [
              "[p(0) = λ₁ + λ₂, p(4) = -λ₂]"
            ],
            "image/png": "[encoded data removed]",
            "text/latex": "$\\displaystyle \\left[ p{\\left(0 \\right)} = \\lambda_{1} + \\lambda_{2}, \\  p{\\left(4 \\right)} = - \\lambda_{2}\\right]$"
          },
          "metadata": {},
          "execution_count": 86
        }
      ]
    },
    {
      "cell_type": "code",
      "source": [
        "test.new_KKT()"
      ],
      "metadata": {
        "colab": {
          "base_uri": "https://localhost:8080/",
          "height": 39
        },
        "id": "p2w0I7CUxYeW",
        "outputId": "70bb5c5a-c81a-4d73-ae53-8694634977b0"
      },
      "execution_count": null,
      "outputs": [
        {
          "output_type": "execute_result",
          "data": {
            "text/plain": [
              "[([C₁⋅(-2⋅λ₂ - 4) = 0, λ₂⋅(2⋅C₁ - 2⋅λ₂ - 5) = 0], [-2⋅λ₂ - 4, λ₂])]"
            ],
            "image/png": "[encoded data removed]",
            "text/latex": "$\\displaystyle \\left[ \\left( \\left[ C_{1} \\left(- 2 \\lambda_{2} - 4\\right) = 0, \\  \\lambda_{2} \\left(2 C_{1} - 2 \\lambda_{2} - 5\\right) = 0\\right], \\  \\left[ - 2 \\lambda_{2} - 4, \\  \\lambda_{2}\\right]\\right)\\right]$"
          },
          "metadata": {},
          "execution_count": 87
        }
      ]
    },
    {
      "cell_type": "code",
      "source": [
        "test.x_1"
      ],
      "metadata": {
        "colab": {
          "base_uri": "https://localhost:8080/",
          "height": 54
        },
        "id": "r_aGlgbCwxFM",
        "outputId": "1cee2dc9-7160-4885-d71d-84aeafef05c3"
      },
      "execution_count": null,
      "outputs": [
        {
          "output_type": "execute_result",
          "data": {
            "text/plain": [
              "      2             \n",
              "     t    t⋅(λ₂ + 4)\n",
              "C₁ + ── - ──────────\n",
              "     4        2     "
            ],
            "image/png": "[encoded data removed]",
            "text/latex": "$\\displaystyle C_{1} + \\frac{t^{2}}{4} - \\frac{t \\left(\\lambda_{2} + 4\\right)}{2}$"
          },
          "metadata": {},
          "execution_count": 88
        }
      ]
    },
    {
      "cell_type": "code",
      "source": [
        "test.u_1"
      ],
      "metadata": {
        "colab": {
          "base_uri": "https://localhost:8080/",
          "height": 52
        },
        "id": "dSoT1Ab7xftT",
        "outputId": "dd83dd3a-3f40-4fce-ebb4-a8a0aba89f5c"
      },
      "execution_count": null,
      "outputs": [
        {
          "output_type": "execute_result",
          "data": {
            "text/plain": [
              "  λ₂   t    \n",
              "- ── + ─ - 2\n",
              "  2    2    "
            ],
            "image/png": "[encoded data removed]",
            "text/latex": "$\\displaystyle - \\frac{\\lambda_{2}}{2} + \\frac{t}{2} - 2$"
          },
          "metadata": {},
          "execution_count": 89
        }
      ]
    },
    {
      "cell_type": "code",
      "source": [
        "test.p_1"
      ],
      "metadata": {
        "colab": {
          "base_uri": "https://localhost:8080/",
          "height": 39
        },
        "id": "SjO_y1OvxhXg",
        "outputId": "c123801c-d4a7-4401-8014-7c93e92a2320"
      },
      "execution_count": null,
      "outputs": [
        {
          "output_type": "execute_result",
          "data": {
            "text/plain": [
              "-λ₂ + t - 4"
            ],
            "image/png": "[encoded data removed]",
            "text/latex": "$\\displaystyle - \\lambda_{2} + t - 4$"
          },
          "metadata": {},
          "execution_count": 90
        }
      ]
    },
    {
      "cell_type": "code",
      "source": [
        "test.new_eq_solution()"
      ],
      "metadata": {
        "colab": {
          "base_uri": "https://localhost:8080/",
          "height": 58
        },
        "id": "7zXsZsgbxjd4",
        "outputId": "c80c9d9b-d82d-4f8e-fe3f-0b7a5568e2fe"
      },
      "execution_count": null,
      "outputs": [
        {
          "output_type": "execute_result",
          "data": {
            "text/plain": [
              "[{C₁: 0, λ₂: -5/2}, {C₁: 0, λ₂: 0}, {C₁: 1/2, λ₂: -2}]"
            ],
            "image/png": "[encoded data removed]",
            "text/latex": "$\\displaystyle \\left[ \\left\\{ C_{1} : 0, \\  \\lambda_{2} : - \\frac{5}{2}\\right\\}, \\  \\left\\{ C_{1} : 0, \\  \\lambda_{2} : 0\\right\\}, \\  \\left\\{ C_{1} : \\frac{1}{2}, \\  \\lambda_{2} : -2\\right\\}\\right]$"
          },
          "metadata": {},
          "execution_count": 92
        }
      ]
    },
    {
      "cell_type": "code",
      "source": [
        "test.check_solution_with_ineq()"
      ],
      "metadata": {
        "colab": {
          "base_uri": "https://localhost:8080/",
          "height": 39
        },
        "id": "ff-NkS-_yVSV",
        "outputId": "9219d905-77b1-4671-816e-ed951f0d4325"
      },
      "execution_count": null,
      "outputs": [
        {
          "output_type": "execute_result",
          "data": {
            "text/plain": [
              "{C₁: 0, λ₂: 0}"
            ],
            "image/png": "[encoded data removed]",
            "text/latex": "$\\displaystyle \\left\\{ C_{1} : 0, \\  \\lambda_{2} : 0\\right\\}$"
          },
          "metadata": {},
          "execution_count": 112
        }
      ]
    },
    {
      "cell_type": "markdown",
      "source": [
        "x, u, p, k, condition"
      ],
      "metadata": {
        "id": "ndZCmIGFz6Kx"
      }
    },
    {
      "cell_type": "code",
      "source": [
        "test.result()"
      ],
      "metadata": {
        "colab": {
          "base_uri": "https://localhost:8080/",
          "height": 58
        },
        "id": "02v4H8o-yXHs",
        "outputId": "9240ddf9-0e7e-475e-a3c6-788a09869659"
      },
      "execution_count": null,
      "outputs": [
        {
          "output_type": "execute_result",
          "data": {
            "text/plain": [
              "⎛ 2                                              ⎞\n",
              "⎜t         t                                     ⎟\n",
              "⎜── - 2⋅t, ─ - 2, t - 4, [1, -4, 0], [True, True]⎟\n",
              "⎝4         2                                     ⎠"
            ],
            "text/latex": "$\\displaystyle \\left( \\frac{t^{2}}{4} - 2 t, \\  \\frac{t}{2} - 2, \\  t - 4, \\  \\left[ 1, \\  -4, \\  0\\right], \\  \\left[ \\text{True}, \\  \\text{True}\\right]\\right)$"
          },
          "metadata": {},
          "execution_count": 122
        }
      ]
    }
  ]
}